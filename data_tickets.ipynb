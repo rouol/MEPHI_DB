{
 "cells": [
  {
   "cell_type": "code",
   "execution_count": 183,
   "metadata": {},
   "outputs": [],
   "source": [
    "import pandas as pd\n",
    "import psycopg2\n",
    "import pytz\n",
    "import datetime\n",
    "from transliterate import translit\n",
    "import random"
   ]
  },
  {
   "cell_type": "code",
   "execution_count": 284,
   "metadata": {},
   "outputs": [
    {
     "name": "stdout",
     "output_type": "stream",
     "text": [
      "('PostgreSQL 10.19, compiled by Visual C++ build 1800, 64-bit',)\n"
     ]
    }
   ],
   "source": [
    "conn = psycopg2.connect(\n",
    "    host=\"localhost\",\n",
    "    database=\"skyscanner\",\n",
    "    user=\"postgres\",\n",
    "    password=\"\")\n",
    "    \n",
    "cur = conn.cursor()\n",
    "cur.execute('SELECT version()')\n",
    "\n",
    "# display the PostgreSQL database server version\n",
    "db_version = cur.fetchone()\n",
    "print(db_version)"
   ]
  },
  {
   "cell_type": "code",
   "execution_count": 184,
   "metadata": {},
   "outputs": [],
   "source": [
    "from people_data import maleNames, maleSurNames, femaleNames, femaleSurNames, malePatronymics, femalePatronymics, phoneCodes"
   ]
  },
  {
   "cell_type": "code",
   "execution_count": 367,
   "metadata": {},
   "outputs": [],
   "source": [
    "curs = conn.cursor()\n",
    "curs.execute(\"ROLLBACK\")\n",
    "conn.commit()"
   ]
  },
  {
   "cell_type": "code",
   "execution_count": 369,
   "metadata": {},
   "outputs": [],
   "source": [
    "from people_data import maleNames, maleSurNames, femaleNames, femaleSurNames, malePatronymics, femalePatronymics, phoneCodes\n",
    "\n",
    "def randomBool():\n",
    "    return bool(random.getrandbits(1))\n",
    "\n",
    "def generatePerson(passenger_id: int, booking_id: int):\n",
    "    global maleNames, maleSurNames, femaleNames, femaleSurNames, malePatronymics, femalePatronymics, phoneCodes\n",
    "    if randomBool():\n",
    "        name = random.choice(maleNames)\n",
    "        surname = random.choice(maleSurNames)\n",
    "        patronymic = random.choice(malePatronymics)\n",
    "    else:\n",
    "        name = random.choice(femaleNames)\n",
    "        surname = random.choice(femaleSurNames)\n",
    "        patronymic = random.choice(femalePatronymics)\n",
    "    age = random.randint(18, 100)\n",
    "    date_of_birth = datetime.date.today() - datetime.timedelta(days=365*age)\n",
    "    citizenship = random.choice(['Россия'])\n",
    "    document_type = 'паспорт'\n",
    "    document_number = ''.join([str(random.randint(1, 9)) for _ in range(4)]) + ' ' + ''.join([str(random.randint(1, 9)) for _ in range(6)])\n",
    "    _datetime = datetime.datetime.now(pytz.timezone('Europe/Moscow')) - datetime.timedelta(days=random.randint(1, 20), hours=random.randint(1, 22), minutes=random.randint(1, 55), seconds=random.randint(1, 55))\n",
    "    phone = '+7' + random.choice(phoneCodes) \\\n",
    "        + str(random.randint(1, 9))\\\n",
    "        + str(random.randint(1, 9))\\\n",
    "        + str(random.randint(1, 9))\\\n",
    "        + str(random.randint(1, 9))\\\n",
    "        + str(random.randint(1, 9))\\\n",
    "        + str(random.randint(1, 9))\\\n",
    "        + str(random.randint(1, 9))\n",
    "    eMail = (translit(name[0] + surname, 'ru', reversed=True) + \"@yandex.ru\").replace(\"'\", \"\")\n",
    "    return (passenger_id, date_of_birth, citizenship, document_type, document_number, surname, name, patronymic), \\\n",
    "    (booking_id, _datetime, phone, eMail, surname, name, patronymic) \n",
    "\n",
    "def getAvailableSeat(conn):\n",
    "    cur = conn.cursor()\n",
    "    _date = random.randint(18, 30)\n",
    "    cur.execute(f'''\n",
    "        WITH available_flights as (SELECT\n",
    "        flight_id, departure_time, arrival_time, aircraft_id, airlines.name as airline\n",
    "    FROM flights\n",
    "    INNER JOIN airlines on flights.airline_id = airlines.airline_id\n",
    "    WHERE\n",
    "        status = 'available' and\n",
    "        date(flights.departure_time) = date('2022-03-{_date}') and\n",
    "        flights.departure_time > date('2022-03-{_date}') + '4 hour'::interval and\n",
    "        flights.departure_airport_id IN (\n",
    "            SELECT airport_id FROM airports, cities\n",
    "            WHERE\n",
    "                airports.city_id = cities.city_id and\n",
    "                cities.name = 'Симферополь'\n",
    "            ) and\n",
    "        flights.arrive_airport_id IN (\n",
    "            SELECT airport_id FROM airports, cities\n",
    "            WHERE\n",
    "                airports.city_id = cities.city_id and\n",
    "                cities.name = 'Москва'\n",
    "            ))\n",
    "    SELECT DISTINCT\n",
    "        flight_id, seats.number, seats.seat_id, price\n",
    "    FROM available_flights, seats\n",
    "    WHERE\n",
    "        seats.aircraft_id = available_flights.aircraft_id and\n",
    "        seats.status = 'available' and\n",
    "        seats.category = 'Взрослый' and\n",
    "        seats.class = 'Бизнес'\n",
    "    ORDER BY seats.price ASC\n",
    "    LIMIT 1;\n",
    "    ''')\n",
    "    return cur.fetchall()[0]\n",
    "\n",
    "def bookSeat(conn, seat_id):\n",
    "    cur = conn.cursor()\n",
    "    cur.execute(\n",
    "    f'''\n",
    "    UPDATE seats\n",
    "    SET status = 'booked'\n",
    "    WHERE seat_id = {seat_id};\n",
    "    ''')\n",
    "    conn.commit()\n",
    "\n",
    "def addTicketBooking(ticket, booking, passenger):\n",
    "    cursor = conn.cursor()\n",
    "\n",
    "    cursor.execute(\"INSERT INTO passengers (passenger_id, date_of_birth, citizenship, document_type, document_number, surname, name, patronymic) VALUES(%s, %s, %s, %s, %s, %s, %s, %s)\", passenger)\n",
    "    cursor.execute(\"INSERT INTO bookings (booking_id, datetime, phone, email, surname, name, patronymic) VALUES(%s, %s, %s, %s, %s, %s, %s)\", booking)\n",
    "    cursor.execute(\"INSERT INTO tickets (ticket_id, seat_number, passenger_id, flight_id, booking_id) VALUES(%s, %s, %s, %s, %s)\", ticket)\n",
    "    \n",
    "    conn.commit()\n",
    "\n",
    "def generateTicketandBookSeat(conn, id: int, passenger_id: int, booking_id: int):\n",
    "    seat = getAvailableSeat(conn)\n",
    "    flight_id = seat[0]\n",
    "    seat_number = seat[1]\n",
    "    seat_id = seat[2]\n",
    "    bookSeat(conn, str(seat_id))\n",
    "    return id, seat_number, passenger_id, flight_id, booking_id"
   ]
  },
  {
   "cell_type": "code",
   "execution_count": 353,
   "metadata": {},
   "outputs": [
    {
     "name": "stdout",
     "output_type": "stream",
     "text": [
      "booked 1501340010055\n"
     ]
    }
   ],
   "source": [
    "bookSeat(conn, '1501340010055')"
   ]
  },
  {
   "cell_type": "code",
   "execution_count": 356,
   "metadata": {},
   "outputs": [
    {
     "data": {
      "text/plain": [
       "(150134008, '10A', 1501340080055, 3906.0)"
      ]
     },
     "execution_count": 356,
     "metadata": {},
     "output_type": "execute_result"
    }
   ],
   "source": [
    "getAvailableSeat(conn)"
   ]
  },
  {
   "cell_type": "code",
   "execution_count": 372,
   "metadata": {},
   "outputs": [
    {
     "name": "stdout",
     "output_type": "stream",
     "text": [
      "(301, datetime.date(1936, 1, 7), 'Россия', 'паспорт', '1332 388335', 'Федоров', 'Евгений', 'Александрович')\n"
     ]
    }
   ],
   "source": [
    "for i in range(301, 302):\n",
    "    passenger, booking = generatePerson(i, i)\n",
    "    ticket = generateTicketandBookSeat(conn, id=i, passenger_id=passenger[0], booking_id=booking[0])\n",
    "    addTicketBooking(ticket, booking, passenger)\n",
    "    # print(passenger, booking, ticket)"
   ]
  }
 ],
 "metadata": {
  "interpreter": {
   "hash": "6db5d7cb1296eed1987d6141ec7f95b372830d068ed6c78a14e6eb2584f3ea08"
  },
  "kernelspec": {
   "display_name": "Python 3.9.2 64-bit",
   "language": "python",
   "name": "python3"
  },
  "language_info": {
   "codemirror_mode": {
    "name": "ipython",
    "version": 3
   },
   "file_extension": ".py",
   "mimetype": "text/x-python",
   "name": "python",
   "nbconvert_exporter": "python",
   "pygments_lexer": "ipython3",
   "version": "3.9.2"
  },
  "orig_nbformat": 4
 },
 "nbformat": 4,
 "nbformat_minor": 2
}
